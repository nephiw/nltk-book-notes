{
 "cells": [
  {
   "cell_type": "markdown",
   "metadata": {},
   "source": [
    "# NLTK Book - Chapter 1\n",
    "\n",
    "[http://www.nltk.org/book/ch01.html](http://www.nltk.org/book/ch01.html)\n",
    "\n",
    "## Section 1\n",
    "\n",
    "This section mostly covers some very basic python/nltk functions and how to use and define functions in the interpreter. Here are many of the methods in this section.\n",
    "\n",
    "* `Text.concordance(string)` - a method used to view a string as it is used in the text. It takes a small snippet of the text surrounding the word.\n",
    "* `Text.similiar(string)` - used to collect words in the text that are used in a similar way to the string passed in - so I passed \"affection\" to similar on \"Sense and Sensibility\" and got back words like: attention, regard, marianne, kindness, etc.\n",
    "* `Text.common_contexts(tuple)` - used to find contexts that are similar - so in \"Sense and Sensibility\" passing in \"monstrous\" and \"very\" gets back \"a_pretty\", \"am_glad\", \"a_lucky\" etc.\n",
    "* `Text.dispersion_plot(tuple)` - plots the use of the words passed in based on offset from the beginning of the text like the following."
   ]
  },
  {
   "cell_type": "code",
   "execution_count": 1,
   "metadata": {
    "collapsed": false
   },
   "outputs": [
    {
     "name": "stdout",
     "output_type": "stream",
     "text": [
      "*** Introductory Examples for the NLTK Book ***\n",
      "Loading text1, ..., text9 and sent1, ..., sent9\n",
      "Type the name of the text or sentence to view it.\n",
      "Type: 'texts()' or 'sents()' to list the materials.\n",
      "text1: Moby Dick by Herman Melville 1851\n",
      "text2: Sense and Sensibility by Jane Austen 1811\n",
      "text3: The Book of Genesis\n",
      "text4: Inaugural Address Corpus\n",
      "text5: Chat Corpus\n",
      "text6: Monty Python and the Holy Grail\n",
      "text7: Wall Street Journal\n",
      "text8: Personals Corpus\n",
      "text9: The Man Who Was Thursday by G . K . Chesterton 1908\n"
     ]
    }
   ],
   "source": [
    "%matplotlib inline\n",
    "from nltk.book import *"
   ]
  },
  {
   "cell_type": "code",
   "execution_count": 2,
   "metadata": {
    "collapsed": false
   },
   "outputs": [
    {
     "data": {
      "image/png": "[encoded data removed]",
      "text/plain": [
       "<matplotlib.figure.Figure at 0x7f00885a9ef0>"
      ]
     },
     "metadata": {},
     "output_type": "display_data"
    }
   ],
   "source": [
    "text4.dispersion_plot(['America', 'duties', 'freedom', 'democracy', 'citizens'])"
   ]
  },
  {
   "cell_type": "markdown",
   "metadata": {},
   "source": [
    "* `len(Text)` - will return the number of tokens in the text, this includes words and punctuation.\n",
    "* `set(Text)` - returns a set of tokens, so the complete vocabulary of the text. This includes punctuation, it is useful to combine this with len(set(Text)) to count the size of the vocabulary.\n",
    "* `sorted(Text)` - will return all of the tokens in the Text, but alphabetically.\n",
    "* `Text.count(string)` - will return a count of instances of that token.\n",
    "\n",
    "There is a concept of lexical diversity - which relates to how frequently words are repeated. You can get this value by calculating:\n",
    "* `len(set(Text)) / len(Text)`"
   ]
  },
  {
   "cell_type": "markdown",
   "metadata": {},
   "source": [
    "## Section 2\n",
    "\n",
    "This goes over a little bit about python lists covering primitive creation, concatenation, and appending. Note that python uses append instead of push, but they have the same function. The methods `count` and `index` can be used on lists as well as using bracket notation to return the value at an index.\n",
    "\n",
    "Python also comes with some very strong slicing which can return all the values between two indexes like the following"
   ]
  },
  {
   "cell_type": "code",
   "execution_count": 3,
   "metadata": {
    "collapsed": false
   },
   "outputs": [
    {
     "data": {
      "text/plain": [
       "['bruise', '.\"', '--', 'KING', 'HENRY']"
      ]
     },
     "execution_count": 3,
     "metadata": {},
     "output_type": "execute_result"
    }
   ],
   "source": [
    "text1[1230:1235]"
   ]
  },
  {
   "cell_type": "code",
   "execution_count": 4,
   "metadata": {
    "collapsed": false
   },
   "outputs": [
    {
     "data": {
      "text/plain": [
       "['[',\n",
       " 'Moby',\n",
       " 'Dick',\n",
       " 'by',\n",
       " 'Herman',\n",
       " 'Melville',\n",
       " '1851',\n",
       " ']',\n",
       " 'ETYMOLOGY',\n",
       " '.']"
      ]
     },
     "execution_count": 4,
     "metadata": {},
     "output_type": "execute_result"
    }
   ],
   "source": [
    "text1[:10]"
   ]
  },
  {
   "cell_type": "code",
   "execution_count": 5,
   "metadata": {
    "collapsed": false
   },
   "outputs": [
    {
     "data": {
      "text/plain": [
       "['found', 'another', 'orphan', '.']"
      ]
     },
     "execution_count": 5,
     "metadata": {},
     "output_type": "execute_result"
    }
   ],
   "source": [
    "text1[260815:]"
   ]
  },
  {
   "cell_type": "code",
   "execution_count": 6,
   "metadata": {
    "collapsed": false
   },
   "outputs": [
    {
     "data": {
      "text/plain": [
       "['found', 'another', 'orphan', '.']"
      ]
     },
     "execution_count": 6,
     "metadata": {},
     "output_type": "execute_result"
    }
   ],
   "source": [
    "text1[-4:]"
   ]
  },
  {
   "cell_type": "markdown",
   "metadata": {},
   "source": [
    "we can modify lists by setting values to a slice like so - notice that it does removes more than it replaced in the following example, this not only adds the list on the right starting at index 4, but removes the previous values between 4 and 8"
   ]
  },
  {
   "cell_type": "code",
   "execution_count": 7,
   "metadata": {
    "collapsed": false
   },
   "outputs": [
    {
     "data": {
      "text/plain": [
       "['one', 'two', 'three', 'four', 'test1', 'test2', 'nine', 'ten']"
      ]
     },
     "execution_count": 7,
     "metadata": {},
     "output_type": "execute_result"
    }
   ],
   "source": [
    "test = ['one', 'two', 'three', 'four', 'five', 'six', 'seven', 'eight', 'nine', 'ten']\n",
    "test[4:8] = ['test1', 'test2']\n",
    "test"
   ]
  },
  {
   "cell_type": "markdown",
   "metadata": {},
   "source": [
    "Slicing and indexing can also be done to strings like so: `\"mouse\"[1:3]` which yeilds `\"ou\"` Also note that the join method is on strings and works backward from many other languages like so:"
   ]
  },
  {
   "cell_type": "code",
   "execution_count": 8,
   "metadata": {
    "collapsed": false
   },
   "outputs": [
    {
     "data": {
      "text/plain": [
       "'The land before time'"
      ]
     },
     "execution_count": 8,
     "metadata": {},
     "output_type": "execute_result"
    }
   ],
   "source": [
    "' '.join(['The', 'land', 'before', 'time'])"
   ]
  },
  {
   "cell_type": "markdown",
   "metadata": {},
   "source": [
    "## Section 3\n",
    "\n",
    "Back to natural language processing stuff again, if you want to get the frequency of each word in a text, you can use"
   ]
  },
  {
   "cell_type": "code",
   "execution_count": 9,
   "metadata": {
    "collapsed": false
   },
   "outputs": [
    {
     "data": {
      "text/plain": [
       "[(',', 18713),\n",
       " ('the', 13721),\n",
       " ('.', 6862),\n",
       " ('of', 6536),\n",
       " ('and', 6024),\n",
       " ('a', 4569),\n",
       " ('to', 4542),\n",
       " (';', 4072),\n",
       " ('in', 3916),\n",
       " ('that', 2982)]"
      ]
     },
     "execution_count": 9,
     "metadata": {},
     "output_type": "execute_result"
    }
   ],
   "source": [
    "fdist = FreqDist(text1)\n",
    "fdist.most_common(10)"
   ]
  },
  {
   "cell_type": "markdown",
   "metadata": {},
   "source": [
    "`most_common` reports a list of tuples with the string and the count. You can also plot these like so:"
   ]
  },
  {
   "cell_type": "code",
   "execution_count": 10,
   "metadata": {
    "collapsed": false
   },
   "outputs": [
    {
     "data": {
      "image/png": "[encoded data removed]",
      "text/plain": [
       "<matplotlib.figure.Figure at 0x7f005722bc50>"
      ]
     },
     "metadata": {},
     "output_type": "display_data"
    }
   ],
   "source": [
    "fdist.plot(30, cumulative=True)"
   ]
  },
  {
   "cell_type": "markdown",
   "metadata": {},
   "source": [
    "From the chart you can see that the top 50 words account for about half of the document. I was also able to calculate this with this:"
   ]
  },
  {
   "cell_type": "code",
   "execution_count": 11,
   "metadata": {
    "collapsed": false
   },
   "outputs": [
    {
     "data": {
      "text/plain": [
       "121725"
      ]
     },
     "execution_count": 11,
     "metadata": {},
     "output_type": "execute_result"
    }
   ],
   "source": [
    "mosts = fdist.most_common(50)\n",
    "sum([most[1] for most in mosts])"
   ]
  },
  {
   "cell_type": "markdown",
   "metadata": {},
   "source": [
    "The other end of this spectrum are words that only appear once in the document, these can be viewed with: `fdist.hapaxes()`\n",
    "\n",
    "There are about 9000 hapaxes and they are again not useful because the context becomes important for many of them.\n",
    "\n",
    "Another idea is to see which words are longer than a cutoff length, the book looks at words that are longer than 15 characters with this:"
   ]
  },
  {
   "cell_type": "code",
   "execution_count": 12,
   "metadata": {
    "collapsed": false
   },
   "outputs": [
    {
     "data": {
      "text/plain": [
       "['CIRCUMNAVIGATION',\n",
       " 'Physiognomically',\n",
       " 'apprehensiveness',\n",
       " 'cannibalistically',\n",
       " 'characteristically',\n",
       " 'circumnavigating',\n",
       " 'circumnavigation',\n",
       " 'circumnavigations',\n",
       " 'comprehensiveness',\n",
       " 'hermaphroditical',\n",
       " 'indiscriminately',\n",
       " 'indispensableness',\n",
       " 'irresistibleness',\n",
       " 'physiognomically',\n",
       " 'preternaturalness',\n",
       " 'responsibilities',\n",
       " 'simultaneousness',\n",
       " 'subterraneousness',\n",
       " 'supernaturalness',\n",
       " 'superstitiousness',\n",
       " 'uncomfortableness',\n",
       " 'uncompromisedness',\n",
       " 'undiscriminating',\n",
       " 'uninterpenetratingly']"
      ]
     },
     "execution_count": 12,
     "metadata": {},
     "output_type": "execute_result"
    }
   ],
   "source": [
    "V = set(text1)\n",
    "long_words = [w for w in V if len(w) > 15]\n",
    "sorted(long_words)"
   ]
  },
  {
   "cell_type": "markdown",
   "metadata": {},
   "source": [
    "The book then says \"it is likely that most of these are hapaxes\" so I wanted to find that out. I discovered that `set` has a method named `intersection` so I was able to determine the set of the intersection of long words and hapaxes with this:"
   ]
  },
  {
   "cell_type": "code",
   "execution_count": 13,
   "metadata": {
    "collapsed": false
   },
   "outputs": [
    {
     "data": {
      "text/plain": [
       "16"
      ]
     },
     "execution_count": 13,
     "metadata": {},
     "output_type": "execute_result"
    }
   ],
   "source": [
    "hapaxes = fdist.hapaxes()\n",
    "set(long_words).intersection(hapaxes)\n",
    "len(set(long_words).intersection(hapaxes))"
   ]
  },
  {
   "cell_type": "markdown",
   "metadata": {},
   "source": [
    "So there were 16 words that are both a hapaxe and longer than 15 letters, which were the the missing 8 words that are longer than 15 letters, but not hapaxes?\n",
    "\n",
    "To discover what these word were, I used another list comprehension:"
   ]
  },
  {
   "cell_type": "code",
   "execution_count": 14,
   "metadata": {
    "collapsed": false
   },
   "outputs": [
    {
     "data": {
      "text/plain": [
       "['circumnavigating',\n",
       " 'superstitiousness',\n",
       " 'circumnavigation',\n",
       " 'physiognomically',\n",
       " 'apprehensiveness',\n",
       " 'comprehensiveness',\n",
       " 'simultaneousness',\n",
       " 'indiscriminately']"
      ]
     },
     "execution_count": 14,
     "metadata": {},
     "output_type": "execute_result"
    }
   ],
   "source": [
    "intersection = set(long_words).intersection(hapaxes)\n",
    "[word for word in long_words if word not in intersection]"
   ]
  },
  {
   "cell_type": "markdown",
   "metadata": {},
   "source": [
    "Well how often are these words used?"
   ]
  },
  {
   "cell_type": "code",
   "execution_count": 15,
   "metadata": {
    "collapsed": false
   },
   "outputs": [
    {
     "data": {
      "text/plain": [
       "[('circumnavigating', 2),\n",
       " ('superstitiousness', 2),\n",
       " ('circumnavigation', 2),\n",
       " ('physiognomically', 2),\n",
       " ('apprehensiveness', 4),\n",
       " ('comprehensiveness', 3),\n",
       " ('simultaneousness', 2),\n",
       " ('indiscriminately', 3)]"
      ]
     },
     "execution_count": 15,
     "metadata": {},
     "output_type": "execute_result"
    }
   ],
   "source": [
    "[(word, text1.count(word)) for word in long_words if word not in intersection]"
   ]
  },
  {
   "cell_type": "markdown",
   "metadata": {},
   "source": [
    "The book then asks, what about frequently occurring longer words and suggests occur more than 7 times and longer than 7 letter"
   ]
  },
  {
   "cell_type": "code",
   "execution_count": 16,
   "metadata": {
    "collapsed": false
   },
   "outputs": [
    {
     "data": {
      "text/plain": [
       "['American',\n",
       " 'Atlantic',\n",
       " 'Bulkington',\n",
       " 'Canallers',\n",
       " 'Christian',\n",
       " 'Commodore',\n",
       " 'Consider',\n",
       " 'Fedallah',\n",
       " 'Greenland',\n",
       " 'Guernsey',\n",
       " 'Heidelburgh',\n",
       " 'Japanese',\n",
       " 'Jeroboam',\n",
       " 'Leviathan',\n",
       " 'Meantime']"
      ]
     },
     "execution_count": 16,
     "metadata": {},
     "output_type": "execute_result"
    }
   ],
   "source": [
    "sorted(w for w in set(text1) if len(w) > 7 and fdist[w] > 7)[:15]"
   ]
  },
  {
   "cell_type": "code",
   "execution_count": 17,
   "metadata": {
    "collapsed": false
   },
   "outputs": [
    {
     "data": {
      "text/plain": [
       "555"
      ]
     },
     "execution_count": 17,
     "metadata": {},
     "output_type": "execute_result"
    }
   ],
   "source": [
    "len(list(w for w in set(text1) if len(w) > 7 and fdist[w] > 7))"
   ]
  },
  {
   "cell_type": "markdown",
   "metadata": {},
   "source": [
    "These words are really quite interesting and may actually tell us a lot about the book.\n",
    "\n",
    "### Collocations and Bigrams\n",
    "\n",
    "A collocation is a series of words that together have a meaning, for example \"red wine\" or \"frisbee golf\" since these examples are of two words they are also bigrams - there is a nltk method for bigrams that can be used like so"
   ]
  },
  {
   "cell_type": "code",
   "execution_count": 18,
   "metadata": {
    "collapsed": false
   },
   "outputs": [
    {
     "data": {
      "text/plain": [
       "[('more', 'is'), ('is', 'said'), ('said', 'than'), ('than', 'done')]"
      ]
     },
     "execution_count": 18,
     "metadata": {},
     "output_type": "execute_result"
    }
   ],
   "source": [
    "from nltk import bigrams\n",
    "list(bigrams(['more', 'is', 'said', 'than', 'done']))"
   ]
  },
  {
   "cell_type": "markdown",
   "metadata": {},
   "source": [
    "In order to capture bigrams that are collocations we can use the collocations() function which essentially returns bigrams that occur more often than expected based on the frequency of the individual words."
   ]
  },
  {
   "cell_type": "code",
   "execution_count": 19,
   "metadata": {
    "collapsed": false
   },
   "outputs": [
    {
     "name": "stdout",
     "output_type": "stream",
     "text": [
      "Sperm Whale; Moby Dick; White Whale; old man; Captain Ahab; sperm\n",
      "whale; Right Whale; Captain Peleg; New Bedford; Cape Horn; cried Ahab;\n",
      "years ago; lower jaw; never mind; Father Mapple; cried Stubb; chief\n",
      "mate; white whale; ivory leg; one hand\n"
     ]
    }
   ],
   "source": [
    "text1.collocations()"
   ]
  },
  {
   "cell_type": "code",
   "execution_count": 20,
   "metadata": {
    "collapsed": false
   },
   "outputs": [
    {
     "name": "stdout",
     "output_type": "stream",
     "text": [
      "United States; fellow citizens; four years; years ago; Federal\n",
      "Government; General Government; American people; Vice President; Old\n",
      "World; Almighty God; Fellow citizens; Chief Magistrate; Chief Justice;\n",
      "God bless; every citizen; Indian tribes; public debt; one another;\n",
      "foreign nations; political parties\n"
     ]
    }
   ],
   "source": [
    "text4.collocations()"
   ]
  },
  {
   "cell_type": "markdown",
   "metadata": {},
   "source": [
    "### Counting Other Things\n",
    "\n",
    "Word counting is interesting, but you can also count other things. For example, if you want to get the distribution of word lengths you can do this"
   ]
  },
  {
   "cell_type": "code",
   "execution_count": 21,
   "metadata": {
    "collapsed": false
   },
   "outputs": [
    {
     "name": "stdout",
     "output_type": "stream",
     "text": [
      "<FreqDist with 19 samples and 260819 outcomes>\n"
     ]
    },
    {
     "data": {
      "text/plain": [
       "FreqDist({1: 47933,\n",
       "          2: 38513,\n",
       "          3: 50223,\n",
       "          4: 42345,\n",
       "          5: 26597,\n",
       "          6: 17111,\n",
       "          7: 14399,\n",
       "          8: 9966,\n",
       "          9: 6428,\n",
       "          10: 3528,\n",
       "          11: 1873,\n",
       "          12: 1053,\n",
       "          13: 567,\n",
       "          14: 177,\n",
       "          15: 70,\n",
       "          16: 22,\n",
       "          17: 12,\n",
       "          18: 1,\n",
       "          20: 1})"
      ]
     },
     "execution_count": 21,
     "metadata": {},
     "output_type": "execute_result"
    }
   ],
   "source": [
    "fdist = FreqDist(len(w) for w in text1)\n",
    "print(fdist)\n",
    "fdist"
   ]
  },
  {
   "cell_type": "markdown",
   "metadata": {},
   "source": [
    "I was curious how I could get a sorted list of these values, so I tried sorted:"
   ]
  },
  {
   "cell_type": "code",
   "execution_count": 22,
   "metadata": {
    "collapsed": false
   },
   "outputs": [
    {
     "data": {
      "text/plain": [
       "[1, 2, 3, 4, 5, 6, 7, 8, 9, 10, 11, 12, 13, 14, 15, 16, 17, 18, 20]"
      ]
     },
     "execution_count": 22,
     "metadata": {},
     "output_type": "execute_result"
    }
   ],
   "source": [
    "sorted(fdist)"
   ]
  },
  {
   "cell_type": "markdown",
   "metadata": {},
   "source": [
    "That was informative (there are no 19 letter words in the corpus), but not what I was after, so I used this list comprehension:"
   ]
  },
  {
   "cell_type": "code",
   "execution_count": 23,
   "metadata": {
    "collapsed": false
   },
   "outputs": [
    {
     "data": {
      "text/plain": [
       "[(3, 50223),\n",
       " (1, 47933),\n",
       " (4, 42345),\n",
       " (2, 38513),\n",
       " (5, 26597),\n",
       " (6, 17111),\n",
       " (7, 14399),\n",
       " (8, 9966),\n",
       " (9, 6428),\n",
       " (10, 3528),\n",
       " (11, 1873),\n",
       " (12, 1053),\n",
       " (13, 567),\n",
       " (14, 177),\n",
       " (15, 70),\n",
       " (16, 22),\n",
       " (17, 12),\n",
       " (18, 1),\n",
       " (20, 1)]"
      ]
     },
     "execution_count": 23,
     "metadata": {},
     "output_type": "execute_result"
    }
   ],
   "source": [
    "tuple_list = [(val, fdist[val]) for val in list(fdist)]\n",
    "tuple_list.sort(reverse=True, key=lambda x: x[1])\n",
    "tuple_list"
   ]
  },
  {
   "cell_type": "markdown",
   "metadata": {},
   "source": [
    "What was the 20 character word?"
   ]
  },
  {
   "cell_type": "code",
   "execution_count": 24,
   "metadata": {
    "collapsed": false
   },
   "outputs": [
    {
     "data": {
      "text/plain": [
       "['uninterpenetratingly']"
      ]
     },
     "execution_count": 24,
     "metadata": {},
     "output_type": "execute_result"
    }
   ],
   "source": [
    "[w for w in set(text1) if len(w) == 20]"
   ]
  },
  {
   "cell_type": "markdown",
   "metadata": {},
   "source": [
    "Then, the book asked the same question and had a much simpler solution - what is the most common word length:"
   ]
  },
  {
   "cell_type": "code",
   "execution_count": 25,
   "metadata": {
    "collapsed": false
   },
   "outputs": [
    {
     "data": {
      "text/plain": [
       "[(3, 50223),\n",
       " (1, 47933),\n",
       " (4, 42345),\n",
       " (2, 38513),\n",
       " (5, 26597),\n",
       " (6, 17111),\n",
       " (7, 14399),\n",
       " (8, 9966),\n",
       " (9, 6428),\n",
       " (10, 3528),\n",
       " (11, 1873),\n",
       " (12, 1053),\n",
       " (13, 567),\n",
       " (14, 177),\n",
       " (15, 70),\n",
       " (16, 22),\n",
       " (17, 12),\n",
       " (18, 1),\n",
       " (20, 1)]"
      ]
     },
     "execution_count": 25,
     "metadata": {},
     "output_type": "execute_result"
    }
   ],
   "source": [
    "fdist.most_common()"
   ]
  },
  {
   "cell_type": "markdown",
   "metadata": {},
   "source": [
    "So the most frequent word length is 3, which account for about 50000 words or about 20% of the words in the book.\n",
    "\n",
    "Here is a list of the commonly used Frequency Distribution functions and what they do:\n",
    "\n",
    "| Example                       | Description                                                        |\n",
    "|-------------------------------|--------------------------------------------------------------------|\n",
    "| `fdist = FreqDist(samples)`   | create a frequency distribution containing the given samples       |\n",
    "| `fdist[sample] += 1`          | increment the count for this sample                                |\n",
    "| `fdist['monstrous']`          | count of the number of times a given sample occurred               |\n",
    "| `fdist.freq('monstrous')`     | frequency of a given sample                                        |\n",
    "| `fdist.N()`                   | total number of samples                                            |\n",
    "| `fdist.most_common(n)`        | the n most common samples and their frequencies                    |\n",
    "| `for sample in fdist:`        | iterate over the samples                                           |\n",
    "| `fdist.max()`                 | sample with the greatest count                                     |\n",
    "| `fdist.tabulate()`            | tabulate the frequency distribution                                |\n",
    "| `fdist.plot()`                | graphical plot of the frequency distribution                       |\n",
    "| `fdist.plot(cumulative=True)` | cumulative plot of the frequency distribution                      |\n",
    "| `fdist1` &#124; `= fdist2`    | update `fdist1` with counts from `fdist2`                          |\n",
    "| `fdist1 < fdist2`             | test if samples in `fdist1` occur less frequently than in `fdist2` |"
   ]
  },
  {
   "cell_type": "markdown",
   "metadata": {},
   "source": [
    "## Section 4\n",
    "\n",
    "This section is about python the language again. It shows some the basic operators of equality (==, !=, >, <, >=, <=) and then some string operators, some of which I did not know, so here they are:\n",
    "\n",
    "| Function          | Meaning                                                              |\n",
    "|-------------------|----------------------------------------------------------------------|\n",
    "| `s.startswith(t)` | test if `s` starts with `t`                                          |\n",
    "| `s.endswith(t)`   | test if `s` ends with `t`                                            |\n",
    "| `t in s`          | test if `t` is a substring of `s`                                    |\n",
    "| `s.islower()`     | test if `s` contains cased characters and all are lowercase          |\n",
    "| `s.isupper()`     | test if `s` contains cased characters and all are uppercase          |\n",
    "| `s.isalpha()`     | test if `s` is non-empty and all characters in `s` are alphabetic    |\n",
    "| `s.isalnum()`     | test if `s` is non-empty and all characters in `s` are alphanumeric  |\n",
    "| `s.isdigit()`     | test if `s` is non-empty and all characters in `s` are digits        |\n",
    "| `s.istitle()`     | test if `s` contains cased characters and is title cased             |\n",
    "\n",
    "Here are some examples of the above methods getting used in list comprehensions"
   ]
  },
  {
   "cell_type": "code",
   "execution_count": 26,
   "metadata": {
    "collapsed": false
   },
   "outputs": [
    {
     "data": {
      "text/plain": [
       "['comfortableness',\n",
       " 'honourableness',\n",
       " 'immutableness',\n",
       " 'indispensableness',\n",
       " 'indomitableness',\n",
       " 'intolerableness',\n",
       " 'palpableness',\n",
       " 'reasonableness',\n",
       " 'uncomfortableness']"
      ]
     },
     "execution_count": 26,
     "metadata": {},
     "output_type": "execute_result"
    }
   ],
   "source": [
    "sorted(w for w in set(text1) if w.endswith('ableness'))"
   ]
  },
  {
   "cell_type": "code",
   "execution_count": 27,
   "metadata": {
    "collapsed": false
   },
   "outputs": [
    {
     "data": {
      "text/plain": [
       "['Sovereignty', 'sovereignties', 'sovereignty']"
      ]
     },
     "execution_count": 27,
     "metadata": {},
     "output_type": "execute_result"
    }
   ],
   "source": [
    "sorted(term for term in set(text4) if 'gnt' in term)"
   ]
  },
  {
   "cell_type": "code",
   "execution_count": 28,
   "metadata": {
    "collapsed": false
   },
   "outputs": [
    {
     "data": {
      "text/plain": [
       "['A',\n",
       " 'Aaaaaaaaah',\n",
       " 'Aaaaaaaah',\n",
       " 'Aaaaaah',\n",
       " 'Aaaah',\n",
       " 'Aaaaugh',\n",
       " 'Aaagh',\n",
       " 'Aaah',\n",
       " 'Aaauggh',\n",
       " 'Aaaugh',\n",
       " 'Aaauugh',\n",
       " 'Aagh',\n",
       " 'Aah',\n",
       " 'Aauuggghhh',\n",
       " 'Aauuugh']"
      ]
     },
     "execution_count": 28,
     "metadata": {},
     "output_type": "execute_result"
    }
   ],
   "source": [
    "sorted(item for item in set(text6) if item.istitle())[:15]"
   ]
  },
  {
   "cell_type": "code",
   "execution_count": 29,
   "metadata": {
    "collapsed": false
   },
   "outputs": [
    {
     "data": {
      "text/plain": [
       "['29', '61']"
      ]
     },
     "execution_count": 29,
     "metadata": {},
     "output_type": "execute_result"
    }
   ],
   "source": [
    "sorted(item for item in set(sent7) if item.isdigit())"
   ]
  },
  {
   "cell_type": "markdown",
   "metadata": {},
   "source": [
    "Combining these methods we can ask even better questions, for example:\n",
    "\n",
    "How many words are there without case sensitivity?"
   ]
  },
  {
   "cell_type": "code",
   "execution_count": 30,
   "metadata": {
    "collapsed": false
   },
   "outputs": [
    {
     "name": "stdout",
     "output_type": "stream",
     "text": [
      "19317\n",
      "17231\n"
     ]
    }
   ],
   "source": [
    "print(len(set(text1)))\n",
    "print(len(set(word.lower() for word in text1)))"
   ]
  },
  {
   "cell_type": "markdown",
   "metadata": {},
   "source": [
    "What if we remove punctuation and numeric tokens?"
   ]
  },
  {
   "cell_type": "code",
   "execution_count": 31,
   "metadata": {
    "collapsed": false
   },
   "outputs": [
    {
     "data": {
      "text/plain": [
       "16948"
      ]
     },
     "execution_count": 31,
     "metadata": {},
     "output_type": "execute_result"
    }
   ],
   "source": [
    "len(set(token.lower() for token in text1 if token.isalpha()))"
   ]
  },
  {
   "cell_type": "markdown",
   "metadata": {},
   "source": [
    "This section goes into details about if statements and loops and all stuff you have seen before a million times, so I will be very brief.\n",
    "\n",
    "- End control statements with colons before wrapping to the next line\n",
    "- if/elif/else\n",
    "- print accepts a second parameter named \"end\" which can change the line end to something other than a new line like so print(\"mouse\", end=\" \") will print mouse with a space after it but the next print will start on this line."
   ]
  },
  {
   "cell_type": "markdown",
   "metadata": {},
   "source": [
    "Section 5\n",
    "\n",
    "This section is a quick summary of what is to come.\n",
    "\n",
    "- word sense disambiguation - we gain understanding from context, word often have many meanings\n",
    "    - serve: help with food or drink; hold an office; put a ball into play\n",
    "    - dish: plate; course of a meal; communications device\n",
    "- pronoun resolution - again we understand the pronoun by the context\n",
    "    - for example:\n",
    "        - The thieves stole the paintings. They were subsequently sold.\n",
    "        - The thieves stole the paintings. They were subsequently caught.\n",
    "        - The thieves stole the paintings. They were subsequently found.\n",
    "    - defining the \"they\" above requires finding the antecedent of the pronoun which computers handle with techniques like:\n",
    "        - anaphora resolution - identifying what a proount refers to\n",
    "        - semantic role labeling - identifying how the noun phrase relates to the verb.\n",
    "- Once words can be understood the next steps may be:\n",
    "    - question answering\n",
    "        - text or spoken\n",
    "    - machine translation\n",
    "\n",
    "Here is a diagram of what is required to do a single question and answer with a machine:\n",
    "![NLTK-QA-Flow](NLTK-QA-Flow.png)\n",
    "\n",
    "Another interesting question in NLP is called \"Textual Entailment\" which is: given some text and a statement, determine if the statement is true from what was in the text. This is actually quite difficult and people do it all the time."
   ]
  }
 ],
 "metadata": {
  "kernelspec": {
   "display_name": "Python 3",
   "language": "python",
   "name": "python3"
  },
  "language_info": {
   "codemirror_mode": {
    "name": "ipython",
    "version": 3
   },
   "file_extension": ".py",
   "mimetype": "text/x-python",
   "name": "python",
   "nbconvert_exporter": "python",
   "pygments_lexer": "ipython3",
   "version": "3.5.1"
  }
 },
 "nbformat": 4,
 "nbformat_minor": 0
}
